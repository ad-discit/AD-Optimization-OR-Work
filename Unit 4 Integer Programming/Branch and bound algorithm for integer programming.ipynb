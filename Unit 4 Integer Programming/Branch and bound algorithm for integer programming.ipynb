{
 "cells": [
  {
   "cell_type": "markdown",
   "metadata": {},
   "source": [
    "# E8 Branch and bound algorithm for integer programming"
   ]
  },
  {
   "cell_type": "markdown",
   "metadata": {},
   "source": [
    "Abdoulaye Diop"
   ]
  },
  {
   "cell_type": "markdown",
   "metadata": {},
   "source": [
    "# Introduction\n",
    "\n",
    "In this assignment, we needed to solve an integer programming problem using the Branch and Bound algorithm. An applied research lab has a collection of knowledge transfer projects to choose from and a limited amount of researcher days. The principal investigator wanted to find the optimal strategy about which projects to take $(xi=1)$ and which to discard $(xi=0)$. The following table shows the revenues each project has and the number of researcher days each will require:"
   ]
  },
  {
   "cell_type": "code",
   "execution_count": 3,
   "metadata": {},
   "outputs": [
    {
     "data": {
      "text/plain": [
       "'\\n| Project | 1  | 2  | 3  | 4  | 5  | 6  |\\n|---------|----|----|----|----|----|----|\\n| Revenue | 15 | 20 | 5  | 25 | 22 | 17 |\\n| Days    | 51 | 60 | 40 | 62 | 63 | 10 |\\n'"
      ]
     },
     "execution_count": 3,
     "metadata": {},
     "output_type": "execute_result"
    }
   ],
   "source": [
    "\"\"\"\"\n",
    "| Project | 1  | 2  | 3  | 4  | 5  | 6  |\n",
    "|---------|----|----|----|----|----|----|\n",
    "| Revenue | 15 | 20 | 5  | 25 | 22 | 17 |\n",
    "| Days    | 51 | 60 | 40 | 62 | 63 | 10 |\n",
    "\"\"\""
   ]
  },
  {
   "cell_type": "markdown",
   "metadata": {},
   "source": [
    "The goal was to maximize the total revenue without exceeding a given number of researcher days."
   ]
  },
  {
   "cell_type": "markdown",
   "metadata": {},
   "source": [
    "We had to ensure that the input file was a CSV file for the code to be flexible enough (for other datasets). Here is a quick way to create the CSV."
   ]
  },
  {
   "cell_type": "code",
   "execution_count": 5,
   "metadata": {},
   "outputs": [],
   "source": [
    "import pandas as pd\n",
    "\n",
    "# Dictionary with project data\n",
    "data = {\n",
    "    \"Project\": [1, 2, 3, 4, 5, 6],\n",
    "    \"Revenue\": [15, 20, 5, 25, 22, 17],\n",
    "    \"Days\": [51, 60, 40, 62, 63, 10]\n",
    "}\n",
    "\n",
    "# Create DataFrame\n",
    "df = pd.DataFrame(data)\n",
    "\n",
    "# Save DataFrame to CSV\n",
    "csv_file_path = 'D:/Documents/UVIC/Opti/projects.csv'\n",
    "df.to_csv(csv_file_path, index=False)"
   ]
  },
  {
   "cell_type": "code",
   "execution_count": 11,
   "metadata": {},
   "outputs": [
    {
     "data": {
      "text/html": [
       "<div>\n",
       "<style scoped>\n",
       "    .dataframe tbody tr th:only-of-type {\n",
       "        vertical-align: middle;\n",
       "    }\n",
       "\n",
       "    .dataframe tbody tr th {\n",
       "        vertical-align: top;\n",
       "    }\n",
       "\n",
       "    .dataframe thead th {\n",
       "        text-align: right;\n",
       "    }\n",
       "</style>\n",
       "<table border=\"1\" class=\"dataframe\">\n",
       "  <thead>\n",
       "    <tr style=\"text-align: right;\">\n",
       "      <th></th>\n",
       "      <th>Project</th>\n",
       "      <th>Revenue</th>\n",
       "      <th>Days</th>\n",
       "    </tr>\n",
       "  </thead>\n",
       "  <tbody>\n",
       "    <tr>\n",
       "      <th>0</th>\n",
       "      <td>1</td>\n",
       "      <td>15</td>\n",
       "      <td>51</td>\n",
       "    </tr>\n",
       "    <tr>\n",
       "      <th>1</th>\n",
       "      <td>2</td>\n",
       "      <td>20</td>\n",
       "      <td>60</td>\n",
       "    </tr>\n",
       "    <tr>\n",
       "      <th>2</th>\n",
       "      <td>3</td>\n",
       "      <td>5</td>\n",
       "      <td>40</td>\n",
       "    </tr>\n",
       "    <tr>\n",
       "      <th>3</th>\n",
       "      <td>4</td>\n",
       "      <td>25</td>\n",
       "      <td>62</td>\n",
       "    </tr>\n",
       "    <tr>\n",
       "      <th>4</th>\n",
       "      <td>5</td>\n",
       "      <td>22</td>\n",
       "      <td>63</td>\n",
       "    </tr>\n",
       "    <tr>\n",
       "      <th>5</th>\n",
       "      <td>6</td>\n",
       "      <td>17</td>\n",
       "      <td>10</td>\n",
       "    </tr>\n",
       "  </tbody>\n",
       "</table>\n",
       "</div>"
      ],
      "text/plain": [
       "   Project  Revenue  Days\n",
       "0        1       15    51\n",
       "1        2       20    60\n",
       "2        3        5    40\n",
       "3        4       25    62\n",
       "4        5       22    63\n",
       "5        6       17    10"
      ]
     },
     "execution_count": 11,
     "metadata": {},
     "output_type": "execute_result"
    }
   ],
   "source": [
    "# Load the data\n",
    "file_path = 'D:/Documents/UVIC/Opti/projects.csv'  # Adjust the file path as needed\n",
    "data = pd.read_csv(file_path)\n",
    "\n",
    "# Display the table\n",
    "data.head(len(data))"
   ]
  },
  {
   "cell_type": "code",
   "execution_count": 13,
   "metadata": {},
   "outputs": [
    {
     "name": "stdout",
     "output_type": "stream",
     "text": [
      "286\n"
     ]
    }
   ],
   "source": [
    "print(data['Days'].sum())"
   ]
  },
  {
   "cell_type": "markdown",
   "metadata": {},
   "source": [
    "# Loading Project Data from CSV\n",
    "\n",
    "In this assignment, we start by loading the project data from a CSV file. The `load_data_from_csv` function is designed to handle this task. \n",
    "\n",
    "### Function Explanation\n",
    "\n",
    "- **Importing Pandas**: First, we import the `pandas` library, which is essential for data manipulation and analysis in Python.\n",
    "  \n",
    "- **Function Definition**: The function `load_data_from_csv` takes a single parameter `file_path`, which is the path to the CSV file containing the project data.\n",
    "  \n",
    "- **Reading CSV File**: Inside the function, we use `pd.read_csv(file_path)` to read the CSV file located at the specified path and load its contents into a DataFrame named `data`.\n",
    "\n",
    "- **Returning the DataFrame**: Finally, the function returns the DataFrame `data`, which contains the project information (Project, Revenue, and Days).\n",
    "\n",
    "This function ensures that our project data is loaded into a structured format (DataFrame), making it easier to perform further analysis and optimization (flexible).\n"
   ]
  },
  {
   "cell_type": "code",
   "execution_count": 2,
   "metadata": {},
   "outputs": [],
   "source": [
    "import pandas as pd\n",
    "\n",
    "\n",
    "def load_data_from_csv(file_path):\n",
    "    \"\"\"\n",
    "    Load project data from a CSV file.\n",
    "    \n",
    "    Parameters:\n",
    "    file_path (str): Path to the CSV file\n",
    "    \n",
    "    Returns:\n",
    "    data (DataFrame): DataFrame containing project data\n",
    "    \"\"\"\n",
    "    data = pd.read_csv(file_path)\n",
    "    return data"
   ]
  },
  {
   "cell_type": "markdown",
   "metadata": {},
   "source": [
    "# Branch & Bound"
   ]
  },
  {
   "cell_type": "markdown",
   "metadata": {},
   "source": [
    "# Imports and Logic Explanation\n",
    "\n",
    "## Importing Libraries\n",
    "To solve the integer programming problem efficiently, I chose to import two essential libraries:\n",
    "- **NumPy**\n",
    "- **itertools.combinations**: This function is particularly useful for generating all possible combinations of a given length from the input iterable. It helps us explore all possible project selections to find the optimal combination.\n",
    "\n",
    "## Function Definition\n",
    "The function `find_optimal_combination` uses Branch & Bound helps in exploring different combinations, and is designed to determine the best set of projects that maximize the total revenue without exceeding the given total number of researcher days.\n",
    "\n",
    "### Inside the Function\n",
    "1. **Initialization**:\n",
    "   - I initialize variables `max_revenue` to store the maximum revenue found and `best_combination` to store the best combination of projects.\n",
    "\n",
    "2. **Checking Combinations**:\n",
    "    - Using nested loops, I check all possible combinations of projects. For each combination:\n",
    "     - I calculate the total revenue and the total days used.\n",
    "     - If the total days used is within the allowed limit (`total_days`) and the total revenue is higher than the current maximum, I update `max_revenue` and `best_combination`.\n",
    "\n",
    "3. **Creating the Solution Vector**:\n",
    "   - I create a solution vector, a list of 0s and 1s, where 1 indicates a selected project and 0 indicates a non-selected project.\n",
    "\n",
    "4. **Return Values**\n",
    "\n"
   ]
  },
  {
   "cell_type": "code",
   "execution_count": 3,
   "metadata": {},
   "outputs": [
    {
     "name": "stdout",
     "output_type": "stream",
     "text": [
      "For this 150 number of days:\n",
      "Optimal combination of projects: (3, 4, 5)\n",
      "Solution vector: [0, 0, 0, 1, 1, 1]\n",
      "Maximum revenue: 64\n"
     ]
    }
   ],
   "source": [
    "import numpy as np\n",
    "from itertools import combinations\n",
    "\n",
    "def find_optimal_combination(data, total_days):\n",
    "    \"\"\"\n",
    "    Find the optimal combination of projects to maximize revenue without exceeding total_days.\n",
    "    \n",
    "    Parameters:\n",
    "    data (DataFrame): DataFrame containing project data\n",
    "    total_days (int): Total number of researcher days available\n",
    "    \n",
    "    Returns:\n",
    "    best_combination (list): List of selected projects\n",
    "    solution_vector (list): List of 0s and 1s indicating selected projects\n",
    "    max_revenue (int): Maximum revenue achievable\n",
    "    \"\"\"\n",
    "    revenues = data['Revenue'].tolist()\n",
    "    days = data['Days'].tolist()\n",
    "    projects = list(range(len(revenues)))\n",
    "\n",
    "    # Initialize variables to store the best solution\n",
    "    max_revenue = 0\n",
    "    best_combination = []\n",
    "\n",
    "    # Check all combinations of projects\n",
    "    for r in range(1, len(projects) + 1):\n",
    "        for combo in combinations(projects, r):\n",
    "            total_revenue = sum(revenues[i] for i in combo)\n",
    "            total_days_used = sum(days[i] for i in combo)\n",
    "            if total_days_used <= total_days and total_revenue > max_revenue:\n",
    "                max_revenue = total_revenue\n",
    "                best_combination = combo\n",
    "\n",
    "    # Create the solution vector\n",
    "    solution_vector = [1 if i in best_combination else 0 for i in projects]\n",
    "\n",
    "    return best_combination, solution_vector, max_revenue\n",
    "\n",
    "# Define the total number of researcher days available\n",
    "total_days = 150\n",
    "\n",
    "# Load the data from the CSV file\n",
    "csv_file_path = 'D:/Documents/UVIC/Opti/projects.csv'\n",
    "data = load_data_from_csv(csv_file_path)\n",
    "\n",
    "# Find the optimal combination of projects\n",
    "best_combination, solution_vector, max_revenue = find_optimal_combination(data, total_days)\n",
    "\n",
    "# Print the results\n",
    "print(f\"For this {total_days} number of days:\")\n",
    "print(f\"Optimal combination of projects: {best_combination}\")\n",
    "print(f\"Solution vector: {solution_vector}\")\n",
    "print(f\"Maximum revenue: {max_revenue}\")"
   ]
  },
  {
   "cell_type": "markdown",
   "metadata": {},
   "source": [
    "# Printing every combination evaluated"
   ]
  },
  {
   "cell_type": "code",
   "execution_count": 4,
   "metadata": {},
   "outputs": [
    {
     "name": "stdout",
     "output_type": "stream",
     "text": [
      "Evaluating combination: (0,), Total Revenue: 15, Total Days: 51\n",
      "New optimal combination found: (0,) with revenue 15\n",
      "Evaluating combination: (1,), Total Revenue: 20, Total Days: 60\n",
      "New optimal combination found: (1,) with revenue 20\n",
      "Evaluating combination: (2,), Total Revenue: 5, Total Days: 40\n",
      "Evaluating combination: (3,), Total Revenue: 25, Total Days: 62\n",
      "New optimal combination found: (3,) with revenue 25\n",
      "Evaluating combination: (4,), Total Revenue: 22, Total Days: 63\n",
      "Evaluating combination: (5,), Total Revenue: 17, Total Days: 10\n",
      "Evaluating combination: (0, 1), Total Revenue: 35, Total Days: 111\n",
      "New optimal combination found: (0, 1) with revenue 35\n",
      "Evaluating combination: (0, 2), Total Revenue: 20, Total Days: 91\n",
      "Evaluating combination: (0, 3), Total Revenue: 40, Total Days: 113\n",
      "New optimal combination found: (0, 3) with revenue 40\n",
      "Evaluating combination: (0, 4), Total Revenue: 37, Total Days: 114\n",
      "Evaluating combination: (0, 5), Total Revenue: 32, Total Days: 61\n",
      "Evaluating combination: (1, 2), Total Revenue: 25, Total Days: 100\n",
      "Evaluating combination: (1, 3), Total Revenue: 45, Total Days: 122\n",
      "New optimal combination found: (1, 3) with revenue 45\n",
      "Evaluating combination: (1, 4), Total Revenue: 42, Total Days: 123\n",
      "Evaluating combination: (1, 5), Total Revenue: 37, Total Days: 70\n",
      "Evaluating combination: (2, 3), Total Revenue: 30, Total Days: 102\n",
      "Evaluating combination: (2, 4), Total Revenue: 27, Total Days: 103\n",
      "Evaluating combination: (2, 5), Total Revenue: 22, Total Days: 50\n",
      "Evaluating combination: (3, 4), Total Revenue: 47, Total Days: 125\n",
      "New optimal combination found: (3, 4) with revenue 47\n",
      "Evaluating combination: (3, 5), Total Revenue: 42, Total Days: 72\n",
      "Evaluating combination: (4, 5), Total Revenue: 39, Total Days: 73\n",
      "Evaluating combination: (0, 1, 2), Total Revenue: 40, Total Days: 151\n",
      "Evaluating combination: (0, 1, 3), Total Revenue: 60, Total Days: 173\n",
      "Evaluating combination: (0, 1, 4), Total Revenue: 57, Total Days: 174\n",
      "Evaluating combination: (0, 1, 5), Total Revenue: 52, Total Days: 121\n",
      "New optimal combination found: (0, 1, 5) with revenue 52\n",
      "Evaluating combination: (0, 2, 3), Total Revenue: 45, Total Days: 153\n",
      "Evaluating combination: (0, 2, 4), Total Revenue: 42, Total Days: 154\n",
      "Evaluating combination: (0, 2, 5), Total Revenue: 37, Total Days: 101\n",
      "Evaluating combination: (0, 3, 4), Total Revenue: 62, Total Days: 176\n",
      "Evaluating combination: (0, 3, 5), Total Revenue: 57, Total Days: 123\n",
      "New optimal combination found: (0, 3, 5) with revenue 57\n",
      "Evaluating combination: (0, 4, 5), Total Revenue: 54, Total Days: 124\n",
      "Evaluating combination: (1, 2, 3), Total Revenue: 50, Total Days: 162\n",
      "Evaluating combination: (1, 2, 4), Total Revenue: 47, Total Days: 163\n",
      "Evaluating combination: (1, 2, 5), Total Revenue: 42, Total Days: 110\n",
      "Evaluating combination: (1, 3, 4), Total Revenue: 67, Total Days: 185\n",
      "Evaluating combination: (1, 3, 5), Total Revenue: 62, Total Days: 132\n",
      "New optimal combination found: (1, 3, 5) with revenue 62\n",
      "Evaluating combination: (1, 4, 5), Total Revenue: 59, Total Days: 133\n",
      "Evaluating combination: (2, 3, 4), Total Revenue: 52, Total Days: 165\n",
      "Evaluating combination: (2, 3, 5), Total Revenue: 47, Total Days: 112\n",
      "Evaluating combination: (2, 4, 5), Total Revenue: 44, Total Days: 113\n",
      "Evaluating combination: (3, 4, 5), Total Revenue: 64, Total Days: 135\n",
      "New optimal combination found: (3, 4, 5) with revenue 64\n",
      "Evaluating combination: (0, 1, 2, 3), Total Revenue: 65, Total Days: 213\n",
      "Evaluating combination: (0, 1, 2, 4), Total Revenue: 62, Total Days: 214\n",
      "Evaluating combination: (0, 1, 2, 5), Total Revenue: 57, Total Days: 161\n",
      "Evaluating combination: (0, 1, 3, 4), Total Revenue: 82, Total Days: 236\n",
      "Evaluating combination: (0, 1, 3, 5), Total Revenue: 77, Total Days: 183\n",
      "Evaluating combination: (0, 1, 4, 5), Total Revenue: 74, Total Days: 184\n",
      "Evaluating combination: (0, 2, 3, 4), Total Revenue: 67, Total Days: 216\n",
      "Evaluating combination: (0, 2, 3, 5), Total Revenue: 62, Total Days: 163\n",
      "Evaluating combination: (0, 2, 4, 5), Total Revenue: 59, Total Days: 164\n",
      "Evaluating combination: (0, 3, 4, 5), Total Revenue: 79, Total Days: 186\n",
      "Evaluating combination: (1, 2, 3, 4), Total Revenue: 72, Total Days: 225\n",
      "Evaluating combination: (1, 2, 3, 5), Total Revenue: 67, Total Days: 172\n",
      "Evaluating combination: (1, 2, 4, 5), Total Revenue: 64, Total Days: 173\n",
      "Evaluating combination: (1, 3, 4, 5), Total Revenue: 84, Total Days: 195\n",
      "Evaluating combination: (2, 3, 4, 5), Total Revenue: 69, Total Days: 175\n",
      "Evaluating combination: (0, 1, 2, 3, 4), Total Revenue: 87, Total Days: 276\n",
      "Evaluating combination: (0, 1, 2, 3, 5), Total Revenue: 82, Total Days: 223\n",
      "Evaluating combination: (0, 1, 2, 4, 5), Total Revenue: 79, Total Days: 224\n",
      "Evaluating combination: (0, 1, 3, 4, 5), Total Revenue: 99, Total Days: 246\n",
      "Evaluating combination: (0, 2, 3, 4, 5), Total Revenue: 84, Total Days: 226\n",
      "Evaluating combination: (1, 2, 3, 4, 5), Total Revenue: 89, Total Days: 235\n",
      "Evaluating combination: (0, 1, 2, 3, 4, 5), Total Revenue: 104, Total Days: 286\n",
      "For this 150 number of days:\n",
      "Optimal combination of projects: (3, 4, 5)\n",
      "Solution vector: [0, 0, 0, 1, 1, 1]\n",
      "Maximum revenue: 64\n"
     ]
    }
   ],
   "source": [
    "import pandas as pd\n",
    "import numpy as np\n",
    "from itertools import combinations\n",
    "\n",
    "def load_data_from_csv(file_path):\n",
    "    \"\"\"\n",
    "    Load project data from a CSV file.\n",
    "    \n",
    "    Parameters:\n",
    "    file_path (str): Path to the CSV file\n",
    "    \n",
    "    Returns:\n",
    "    data (DataFrame): DataFrame containing project data\n",
    "    \"\"\"\n",
    "    data = pd.read_csv(file_path)\n",
    "    return data\n",
    "\n",
    "def find_optimal_combination(data, total_days):\n",
    "    \"\"\"\n",
    "    Find the optimal combination of projects to maximize revenue without exceeding total_days.\n",
    "    \n",
    "    Parameters:\n",
    "    data (DataFrame): DataFrame containing project data\n",
    "    total_days (int): Total number of researcher days available\n",
    "    \n",
    "    Returns:\n",
    "    best_combination (list): List of selected projects\n",
    "    solution_vector (list): List of 0s and 1s indicating selected projects\n",
    "    max_revenue (int): Maximum revenue achievable\n",
    "    \"\"\"\n",
    "    revenues = data['Revenue'].tolist()\n",
    "    days = data['Days'].tolist()\n",
    "    projects = list(range(len(revenues)))\n",
    "\n",
    "    # Initialize variables to store the best solution\n",
    "    max_revenue = 0\n",
    "    best_combination = []\n",
    "\n",
    "    # Check all combinations of projects\n",
    "    for r in range(1, len(projects) + 1):\n",
    "        for combo in combinations(projects, r):\n",
    "            total_revenue = sum(revenues[i] for i in combo)\n",
    "            total_days_used = sum(days[i] for i in combo)\n",
    "            print(f\"Evaluating combination: {combo}, Total Revenue: {total_revenue}, Total Days: {total_days_used}\")\n",
    "            if total_days_used <= total_days and total_revenue > max_revenue:\n",
    "                print(f\"New optimal combination found: {combo} with revenue {total_revenue}\")\n",
    "                max_revenue = total_revenue\n",
    "                best_combination = combo\n",
    "\n",
    "    # Create the solution vector\n",
    "    solution_vector = [1 if i in best_combination else 0 for i in projects]\n",
    "\n",
    "    return best_combination, solution_vector, max_revenue\n",
    "\n",
    "# Define the total number of researcher days available\n",
    "total_days = 150\n",
    "\n",
    "# Load the data from the CSV file\n",
    "csv_file_path = 'D:/Documents/UVIC/Opti/projects.csv'\n",
    "data = load_data_from_csv(csv_file_path)\n",
    "\n",
    "# Find the optimal combination of projects\n",
    "best_combination, solution_vector, max_revenue = find_optimal_combination(data, total_days)\n",
    "\n",
    "# Print the results\n",
    "print(f\"For this {total_days} number of days:\")\n",
    "print(f\"Optimal combination of projects: {best_combination}\")\n",
    "print(f\"Solution vector: {solution_vector}\")\n",
    "print(f\"Maximum revenue: {max_revenue}\")\n"
   ]
  },
  {
   "cell_type": "markdown",
   "metadata": {},
   "source": [
    "# Conclusion\n",
    "\n",
    "In this assignment, I used a quasi brute-force approach to find the optimal project combination. This guarantees the correct solution but has significant drawbacks. The method is inefficient for larger datasets, as evaluating all combinations leads to exponential growth, making it an NP-hard problem.\n",
    "\n",
    "### Brute-Force Approach:\n",
    "- **Pros**: Guarantees finding the optimal solution by exhaustively evaluating all possible combinations.\n",
    "- **Cons**: Computationally expensive and impractical for large datasets due to exponential growth.\n",
    "\n",
    "### Scalability Issues:\n",
    "For small datasets, evaluating every combination is feasible. However, for larger datasets, this becomes infeasible, highlighting the need for more efficient algorithms.\n",
    "\n",
    "### Alternative Approaches:\n",
    "- **Divide and Conquer**: As seen in class it breaks the problem into smaller subproblems, solving them independently.\n",
    "- **Heuristic and Metaheuristic Algorithms**: Techniques like Genetic Algorithms, Simulated Annealing, or Tabu Search provide near-optimal solutions more efficiently.\n",
    "- **Dynamic Programming**: Solves combinatorial problems more efficiently by breaking them down into simpler subproblems and storing their solutions.\n"
   ]
  }
 ],
 "metadata": {
  "kernelspec": {
   "display_name": "Python 3",
   "language": "python",
   "name": "python3"
  },
  "language_info": {
   "codemirror_mode": {
    "name": "ipython",
    "version": 3
   },
   "file_extension": ".py",
   "mimetype": "text/x-python",
   "name": "python",
   "nbconvert_exporter": "python",
   "pygments_lexer": "ipython3",
   "version": "3.12.2"
  }
 },
 "nbformat": 4,
 "nbformat_minor": 2
}
