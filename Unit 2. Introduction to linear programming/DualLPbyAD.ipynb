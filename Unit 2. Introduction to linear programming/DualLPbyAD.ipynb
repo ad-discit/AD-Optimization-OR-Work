{
 "cells": [
  {
   "cell_type": "markdown",
   "metadata": {},
   "source": [
    "**1. write the dual LP problem** "
   ]
  },
  {
   "cell_type": "markdown",
   "metadata": {},
   "source": [
    "**Given primal LP problem:**"
   ]
  },
  {
   "cell_type": "markdown",
   "metadata": {},
   "source": [
    "\\begin{align*}\n",
    "\\text{maximize} \\quad & x_1 + 4x_2 + 2x_3 \\\\\n",
    "\\text{subject to} \\quad & 5x_1 + 2x_2 + 2x_3 \\leq 145 \\\\\n",
    "& 4x_1 + 8x_2 - 8x_3 \\leq 260 \\\\\n",
    "& x_1 + x_2 + 4x_3 \\leq 190 \\\\\n",
    "& x \\geq 0\n",
    "\\end{align*}"
   ]
  },
  {
   "cell_type": "markdown",
   "metadata": {},
   "source": [
    "**Dual LP problem:**"
   ]
  },
  {
   "cell_type": "markdown",
   "metadata": {},
   "source": [
    "\\begin{align*}\n",
    "\\text{minimize} \\quad & 145y_1 + 260y_2 + 190y_3 \\\\\n",
    "\\text{subject to} \\quad & 5y_1 + 4y_2 + y_3 \\geq 1 \\\\\n",
    "& 2y_1 + 8y_2 + y_3 \\geq 4 \\\\\n",
    "& 2y_1 - 8y_2 + 4y_3 \\geq 2 \\\\\n",
    "& y \\geq 0\n",
    "\\end{align*}"
   ]
  },
  {
   "cell_type": "markdown",
   "metadata": {},
   "source": [
    "**Standard form Dual LP problem:**"
   ]
  },
  {
   "cell_type": "markdown",
   "metadata": {},
   "source": [
    "\\begin{align*}\n",
    "\\text{maximize} \\quad & -145y_1 - 260y_2 - 190y_3 \\\\\n",
    "\\text{subject to} \\quad & -5y_1 - 4y_2 - y_3 \\leq -1 \\\\\n",
    "& -2y_1 - 8y_2 - y_3 \\leq -4 \\\\\n",
    "& -2y_1 + 8y_2 - 4y_3 \\leq -2 \\\\\n",
    "& y \\geq 0\n",
    "\\end{align*}"
   ]
  },
  {
   "cell_type": "markdown",
   "metadata": {},
   "source": [
    "**2. verify that  $Q=(x_1,x_2,x_3)=(0,52.5,20)$ is a feasible solution for the primal**"
   ]
  },
  {
   "cell_type": "code",
   "execution_count": 1,
   "metadata": {},
   "outputs": [
    {
     "name": "stdout",
     "output_type": "stream",
     "text": [
      "The solution Q is feasible.\n",
      "x1 = 0.0, x2 = 0.0, x3 = 0.0\n"
     ]
    }
   ],
   "source": [
    "\"\"\" I used the architecture of the code from E4basicLPcode.ipynb (Cf. GitHub repo ) \n",
    "and modified it to fit our new objective function, constraints, and coefficients. I kept the same solver, and simplified the status to only return the two expected outcomes\"\"\"\n",
    "\n",
    "from ortools.linear_solver import pywraplp\n",
    "\n",
    "def create_solver():\n",
    "    # Create the linear solver with the SCIP backend.\n",
    "    solver = pywraplp.Solver.CreateSolver('SCIP')\n",
    "    if not solver:\n",
    "        raise Exception('SCIP solver not available.')\n",
    "    return solver\n",
    "\n",
    "def verify_feasibility_Q():\n",
    "    solver = create_solver()\n",
    "\n",
    "    # Variables x1, x2, x3\n",
    "    x1 = solver.NumVar(0, solver.infinity(), 'x1')\n",
    "    x2 = solver.NumVar(0, solver.infinity(), 'x2')\n",
    "    x3 = solver.NumVar(0, solver.infinity(), 'x3')\n",
    "\n",
    "    # Objective Function: this is a feasibility check, so we can use a dummy objective.\n",
    "    # Here we just minimize x1 which won't affect the feasibility.\n",
    "    objective = solver.Objective()\n",
    "    objective.SetCoefficient(x1, 1)\n",
    "    objective.SetMinimization()\n",
    "\n",
    "    # Constraints\n",
    "    constraint1 = solver.Constraint(-solver.infinity(), 145)\n",
    "    constraint1.SetCoefficient(x1, 5)\n",
    "    constraint1.SetCoefficient(x2, 2)\n",
    "    constraint1.SetCoefficient(x3, 2)\n",
    "\n",
    "    constraint2 = solver.Constraint(-solver.infinity(), 260)\n",
    "    constraint2.SetCoefficient(x1, 4)\n",
    "    constraint2.SetCoefficient(x2, 8)\n",
    "    constraint2.SetCoefficient(x3, -8)\n",
    "\n",
    "    constraint3 = solver.Constraint(-solver.infinity(), 190)\n",
    "    constraint3.SetCoefficient(x1, 1)\n",
    "    constraint3.SetCoefficient(x2, 1)\n",
    "    constraint3.SetCoefficient(x3, 4)\n",
    "\n",
    "    # Set the proposed solution Q as a starting point for the solver\n",
    "    solver.SetHint([x1, x2, x3], [0, 52.5, 20])\n",
    "\n",
    "    # Solve the problem\n",
    "    status = solver.Solve()\n",
    "\n",
    "    # Check and print if the proposed solution Q is feasible\n",
    "    if status == pywraplp.Solver.OPTIMAL or status == pywraplp.Solver.FEASIBLE:\n",
    "        print('The solution Q is feasible.')\n",
    "        print(f'x1 = {x1.solution_value()}, x2 = {x2.solution_value()}, x3 = {x3.solution_value()}')\n",
    "    else:\n",
    "        print('The solution Q is not feasible.')\n",
    "\n",
    "# Call the function to verify the feasibility of Q\n",
    "verify_feasibility_Q()\n"
   ]
  },
  {
   "cell_type": "markdown",
   "metadata": {},
   "source": [
    "**3. Use Complementary Slackness to determine a candidate solution to the dual.**"
   ]
  },
  {
   "cell_type": "markdown",
   "metadata": {},
   "source": [
    "To determine a candidate solution to the dual using Column Generation (CG) and display the simplex tableau at each iteration, I needED to implement a structure that can handle the simplex method and also interact with ortools. Using the structure given to us in class; \n",
    "https://notebook.community/infimath/optimization-method/Simplex%20Tableau%20in%20Python\n",
    "I tried to use this tableau generation method with around my code. \n",
    "\n"
   ]
  },
  {
   "cell_type": "code",
   "execution_count": 9,
   "metadata": {},
   "outputs": [],
   "source": [
    "from __future__ import division\n",
    "import numpy as np\n",
    "from fractions import Fraction\n",
    "\n",
    "class Tableau:\n",
    "    def __init__(self, obj):\n",
    "        self.obj = [1] + obj\n",
    "        self.rows = []\n",
    "        self.cons = []\n",
    "        self.no_variables = len(obj)\n",
    "        self.no_constraints = 0\n",
    "        self.is_fraction = False # set True to output in fraction\n",
    "\n",
    "    def add_constraint(self, expression, value):\n",
    "        self.rows.append([0] + expression)\n",
    "        self.cons.append(value)\n",
    "        self.no_constraints += 1\n",
    "        self.header_tableau = [\"Basic\"] + [\"x\"+str(i+1) for i in range(self.no_variables)] \\\n",
    "                                        + [\"s\"+str(i+1) for i in range(self.no_constraints)] \\\n",
    "                                        + [\"Solution\"]\n",
    "        self.basic_variables = [\"s\"+str(i+1) for i in range(self.no_constraints)]\n",
    "\n",
    "    def _pivot_column(self):\n",
    "        lowest = min(self.obj[1:-1])\n",
    "        if lowest >= 0:\n",
    "            return -1\n",
    "        return self.obj.index(lowest)\n",
    "\n",
    "    def _pivot_row(self, col):\n",
    "        ratios = []\n",
    "        for i, row in enumerate(self.rows):\n",
    "            element = row[col]\n",
    "            if element <= 0:\n",
    "                ratios.append(float('inf'))  # Avoid division by zero and negative ratios\n",
    "            else:\n",
    "                ratios.append(self.rows[i][-1] / element)\n",
    "        return np.argmin(ratios)\n",
    "\n",
    "    def display(self):\n",
    "        if self.is_fraction:\n",
    "            # Formatting the output in fraction\n",
    "            fmt = '{:<8}' + ''.join(['{:>8}'.format(\"x\"+str(i+1)) for i in range(self.no_variables)]) \\\n",
    "                + ''.join(['{:>8}'.format(\"s\"+str(i+1)) for i in range(self.no_constraints)]) + '{:>8}'\n",
    "            print(fmt.format(\"Basic\", *[\"x\"+str(i+1) for i in range(self.no_variables)] + [\"s\"+str(i+1) for i in range(self.no_constraints)] + [\"Sol.\"]))\n",
    "\n",
    "            row_format = '{:<8}' + ''.join(['{:>8}'.format(str(Fraction(x).limit_denominator())) for x in self.obj[1:]])\n",
    "            print(row_format.format(\"z\", *[str(Fraction(x).limit_denominator()) for x in self.obj[1:]]))\n",
    "\n",
    "            for i, row in enumerate(self.rows):\n",
    "                print(row_format.format(self.basic_variables[i], *[str(Fraction(x).limit_denominator()) for x in row[1:]]))\n",
    "        else:\n",
    "            # Formatting the output in float with 2 decimal places\n",
    "            fmt = '{:<8}' + ''.join(['{:>8}'.format(\"x\"+str(i+1)) for i in range(self.no_variables)]) \\\n",
    "                + ''.join(['{:>8}'.format(\"s\"+str(i+1)) for i in range(self.no_constraints)]) + '{:>8}'\n",
    "            print(fmt.format(\"Basic\", *[\"x\"+str(i+1) for i in range(self.no_variables)] + [\"s\"+str(i+1) for i in range(self.no_constraints)] + [\"Sol.\"]))\n",
    "\n",
    "            row_format = '{:<8}' + ''.join(['{:>8.2f}'.format(x) for x in self.obj[1:]])\n",
    "            print(row_format.format(\"z\", *[f'{x:.2f}' for x in self.obj[1:]]))\n",
    "\n",
    "            for i, row in enumerate(self.rows):\n",
    "                print(row_format.format(self.basic_variables[i], *[f'{x:.2f}' for x in row[1:]]))\n",
    "\n",
    "\n",
    "    def _pivot(self, row, col):\n",
    "        pivot_element = self.rows[row][col]\n",
    "        self.rows[row] = [x / pivot_element for x in self.rows[row]]\n",
    "        for r in range(len(self.rows)):\n",
    "            if r != row:\n",
    "                self.rows[r] = [orig - factor * updated for orig, factor, updated in zip(self.rows[r], self.rows[row], [self.rows[r][col]]*len(self.rows[row]))]\n",
    "        self.obj = [z - factor * updated for z, factor, updated in zip(self.obj, self.rows[row], [self.obj[col]]*len(self.obj))]\n",
    "\n",
    "    def _check(self):\n",
    "        return min(self.obj[1:-1]) >= 0\n",
    "\n",
    "    def solve(self):\n",
    "        # Append slack variables and setup tableau\n",
    "        for i in range(len(self.rows)):\n",
    "            identity = [0]*self.no_constraints\n",
    "            identity[i] = 1\n",
    "            self.rows[i] += identity + [self.cons[i]]\n",
    "            self.rows[i] = np.array(self.rows[i], dtype=float)\n",
    "        self.obj = np.array(self.obj + [0]*self.no_constraints, dtype=float)\n",
    "\n",
    "        self.display()\n",
    "        while not self._check():\n",
    "            col = self._pivot_column()\n",
    "            if col == -1:\n",
    "                break\n",
    "            row = self._pivot_row(col)\n",
    "            self._pivot(row, col)\n",
    "            print('\\nEntering Variable: ', self.header_tableau[col])\n",
    "            print('Leaving Variable: ', self.basic_variables[row], '\\n')\n",
    "            self.basic_variables[row] = self.header_tableau[col]\n",
    "            self.display()\n",
    "\n",
    "if __name__ == '__main__':\n",
    "    t = Tableau([-2, -3, -2])\n",
    "    t.add_constraint\n"
   ]
  },
  {
   "cell_type": "markdown",
   "metadata": {},
   "source": [
    "\\begin{align*}\n",
    "\\text{maximize} \\quad & x_1 + 4x_2 + 2x_3 \\\\\n",
    "\\text{subject to} \\quad & 5x_1 + 2x_2 + 2x_3 \\leq 145 \\\\\n",
    "& 4x_1 + 8x_2 - 8x_3 \\leq 260 \\\\\n",
    "& x_1 + x_2 + 4x_3 \\leq 190 \\\\\n",
    "& x \\geq 0\n",
    "\\end{align*}"
   ]
  },
  {
   "cell_type": "code",
   "execution_count": 10,
   "metadata": {},
   "outputs": [
    {
     "name": "stdout",
     "output_type": "stream",
     "text": [
      "Basic         x1      x2      x3      s1      s2      s3      x1\n",
      "z             -1      -4      -2       0       0       0\n",
      "s1            -1      -4      -2       0       0       0\n",
      "s2            -1      -4      -2       0       0       0\n",
      "s3            -1      -4      -2       0       0       0\n"
     ]
    },
    {
     "ename": "AttributeError",
     "evalue": "'numpy.ndarray' object has no attribute 'index'",
     "output_type": "error",
     "traceback": [
      "\u001b[1;31m---------------------------------------------------------------------------\u001b[0m",
      "\u001b[1;31mAttributeError\u001b[0m                            Traceback (most recent call last)",
      "Cell \u001b[1;32mIn[10], line 16\u001b[0m\n\u001b[0;32m     13\u001b[0m t\u001b[38;5;241m.\u001b[39madd_constraint([\u001b[38;5;241m-\u001b[39m\u001b[38;5;241m2\u001b[39m, \u001b[38;5;241m8\u001b[39m, \u001b[38;5;241m-\u001b[39m\u001b[38;5;241m4\u001b[39m], \u001b[38;5;241m190\u001b[39m)   \u001b[38;5;66;03m# The negated coefficients of the third primal constraint\u001b[39;00m\n\u001b[0;32m     15\u001b[0m t\u001b[38;5;241m.\u001b[39mis_fraction \u001b[38;5;241m=\u001b[39m \u001b[38;5;28;01mTrue\u001b[39;00m\n\u001b[1;32m---> 16\u001b[0m \u001b[43mt\u001b[49m\u001b[38;5;241;43m.\u001b[39;49m\u001b[43msolve\u001b[49m\u001b[43m(\u001b[49m\u001b[43m)\u001b[49m\n",
      "Cell \u001b[1;32mIn[9], line 86\u001b[0m, in \u001b[0;36mTableau.solve\u001b[1;34m(self)\u001b[0m\n\u001b[0;32m     84\u001b[0m \u001b[38;5;28mself\u001b[39m\u001b[38;5;241m.\u001b[39mdisplay()\n\u001b[0;32m     85\u001b[0m \u001b[38;5;28;01mwhile\u001b[39;00m \u001b[38;5;129;01mnot\u001b[39;00m \u001b[38;5;28mself\u001b[39m\u001b[38;5;241m.\u001b[39m_check():\n\u001b[1;32m---> 86\u001b[0m     col \u001b[38;5;241m=\u001b[39m \u001b[38;5;28;43mself\u001b[39;49m\u001b[38;5;241;43m.\u001b[39;49m\u001b[43m_pivot_column\u001b[49m\u001b[43m(\u001b[49m\u001b[43m)\u001b[49m\n\u001b[0;32m     87\u001b[0m     \u001b[38;5;28;01mif\u001b[39;00m col \u001b[38;5;241m==\u001b[39m \u001b[38;5;241m-\u001b[39m\u001b[38;5;241m1\u001b[39m:\n\u001b[0;32m     88\u001b[0m         \u001b[38;5;28;01mbreak\u001b[39;00m\n",
      "Cell \u001b[1;32mIn[9], line 27\u001b[0m, in \u001b[0;36mTableau._pivot_column\u001b[1;34m(self)\u001b[0m\n\u001b[0;32m     25\u001b[0m \u001b[38;5;28;01mif\u001b[39;00m lowest \u001b[38;5;241m>\u001b[39m\u001b[38;5;241m=\u001b[39m \u001b[38;5;241m0\u001b[39m:\n\u001b[0;32m     26\u001b[0m     \u001b[38;5;28;01mreturn\u001b[39;00m \u001b[38;5;241m-\u001b[39m\u001b[38;5;241m1\u001b[39m\n\u001b[1;32m---> 27\u001b[0m \u001b[38;5;28;01mreturn\u001b[39;00m \u001b[38;5;28;43mself\u001b[39;49m\u001b[38;5;241;43m.\u001b[39;49m\u001b[43mobj\u001b[49m\u001b[38;5;241;43m.\u001b[39;49m\u001b[43mindex\u001b[49m(lowest)\n",
      "\u001b[1;31mAttributeError\u001b[0m: 'numpy.ndarray' object has no attribute 'index'"
     ]
    }
   ],
   "source": [
    "# Solving the dual LP problem and displaying the tableau\n",
    "\n",
    "\n",
    "# Then, we instantiate the Tableau class for the dual problem\n",
    "# Recall the dual problem's objective function and constraints\n",
    "\n",
    "# Since this is a maximization problem, the objective coefficients should be negated for the Tableau\n",
    "t = Tableau([-1, -4, -2])  # The negated coefficients of the primal objective function\n",
    "\n",
    "# Add the constraints of the dual, which are the transposed coefficients of the primal constraints with their signs reversed\n",
    "t.add_constraint([-5, -4, -1], 145)  # The negated coefficients of the first primal constraint\n",
    "t.add_constraint([-2, -8, -1], 260)  # The negated coefficients of the second primal constraint\n",
    "t.add_constraint([-2, 8, -4], 190)   # The negated coefficients of the third primal constraint\n",
    "\n",
    "t.is_fraction = True\n",
    "t.solve()"
   ]
  },
  {
   "cell_type": "markdown",
   "metadata": {},
   "source": [
    "Still trying out the OR tools code to see if I can obtain the right solutions for y1, y2 and y3. (without displaying the tableau for each iteration)"
   ]
  },
  {
   "cell_type": "code",
   "execution_count": 11,
   "metadata": {},
   "outputs": [
    {
     "name": "stdout",
     "output_type": "stream",
     "text": [
      "Optimal Solution Found:\n",
      "y1 = 1.5\n",
      "y2 = 0.12499999999999994\n",
      "y3 = 0.0\n",
      "Objective value = 250.00000000000003\n"
     ]
    }
   ],
   "source": [
    "# Using ortools to solve the dual LP problem\n",
    "\n",
    "from ortools.linear_solver import pywraplp\n",
    "\n",
    "def create_solver():\n",
    "    # Create the linear solver with the SCIP backend.\n",
    "    solver = pywraplp.Solver.CreateSolver('SCIP')\n",
    "    if not solver:\n",
    "        raise Exception('SCIP solver not available.')\n",
    "    return solver\n",
    "\n",
    "def solve_dual_with_ortools():\n",
    "    solver = create_solver()\n",
    "\n",
    "    # Variables for the dual problem\n",
    "    y1 = solver.NumVar(0, solver.infinity(), 'y1')\n",
    "    y2 = solver.NumVar(0, solver.infinity(), 'y2')\n",
    "    y3 = solver.NumVar(0, solver.infinity(), 'y3')\n",
    "\n",
    "    # Dual LP objective: Minimize 145y1 + 260y2 + 190y3\n",
    "    objective = solver.Objective()\n",
    "    objective.SetCoefficient(y1, 145)\n",
    "    objective.SetCoefficient(y2, 260)\n",
    "    objective.SetCoefficient(y3, 190)\n",
    "    objective.SetMinimization()\n",
    "\n",
    "        # Dual constraints (corresponding to the primal variables)\n",
    "    constraint1 = solver.Constraint(1, solver.infinity())\n",
    "    constraint1.SetCoefficient(y1, 5)\n",
    "    constraint1.SetCoefficient(y2, 4)\n",
    "    constraint1.SetCoefficient(y3, 1)\n",
    "\n",
    "    constraint2 = solver.Constraint(4, solver.infinity())\n",
    "    constraint2.SetCoefficient(y1, 2)\n",
    "    constraint2.SetCoefficient(y2, 8)\n",
    "    constraint2.SetCoefficient(y3, 1)\n",
    "\n",
    "    constraint3 = solver.Constraint(2, solver.infinity())\n",
    "    constraint3.SetCoefficient(y1, 2)\n",
    "    constraint3.SetCoefficient(y2, -8)\n",
    "    constraint3.SetCoefficient(y3, 4)\n",
    "\n",
    "    # Solve the problem\n",
    "    status = solver.Solve()\n",
    "\n",
    "    # Check and print the solution or status\n",
    "    if status == pywraplp.Solver.OPTIMAL:\n",
    "        print('Optimal Solution Found:')\n",
    "        print('y1 =', y1.solution_value())\n",
    "        print('y2 =', y2.solution_value())\n",
    "        print('y3 =', y3.solution_value())\n",
    "        print('Objective value =', objective.Value())\n",
    "    elif status == pywraplp.Solver.INFEASIBLE:\n",
    "        print('No feasible solution found. The problem is infeasible.')\n",
    "    elif status == pywraplp.Solver.UNBOUNDED:\n",
    "        print('The problem is unbounded.')\n",
    "    else:\n",
    "        print(f'Solver status is {status}: Problem could not be solved due to other reasons.')\n",
    "\n",
    "# Call the function to solve the dual with ortools\n",
    "solve_dual_with_ortools()\n",
    "\n"
   ]
  },
  {
   "cell_type": "markdown",
   "metadata": {},
   "source": [
    "I modified the code I was given to approach the dual problem using the simplex method. By setting up a tableau with objective and constraint coefficients, I aimed to iteratively find the optimal solution. Initially, the presence of negative coefficients in the 'Z' row indicated the potential for a better solution. Through the simplex algorithm, I identified the most negative coefficient for the entering variable and performed a minimum ratio test to find the pivot row—avoiding division by zero or negative ratios.\n",
    "\n",
    "After determining the pivot element, I normalized the pivot row, turning the pivot column into a unit vector, thus bringing the chosen variable into the basis. The tableau was then updated, subtracting multiples of the pivot row from all other rows to zero out the column above the pivot element, ensuring the constraints remained consistent.\n",
    "\n",
    "The process continued until no more improvements were possible, indicated by non-negative 'Z' coefficients. The optimal 'y' values, representing shadow prices for the primal constraints. This demonstrated a systematic approach to deducing the dual problem's solution using the simplex method."
   ]
  },
  {
   "cell_type": "code",
   "execution_count": 17,
   "metadata": {},
   "outputs": [
    {
     "name": "stdout",
     "output_type": "stream",
     "text": [
      "Current Tableau:\n",
      "0 | -1 | -4 | -2 | 0 | 0 | 0 | 0\n",
      "0 | -5 | -4 | -1 | 1 | 0 | 0 | 145\n",
      "0 | -2 | -8 | 1 | 0 | 1 | 0 | 260\n",
      "0 | -2 | 8 | -4 | 0 | 0 | 1 | 190\n",
      "\n",
      "Current Tableau:\n",
      "0 | -2 | 0 | -4 | 0 | 0 | 1/2 | 95\n",
      "0 | -6 | 0 | -3 | 1 | 0 | 1/2 | 240\n",
      "0 | -4 | 0 | -3 | 0 | 1 | 1 | 450\n",
      "0 | -1/4 | 1 | -1/2 | 0 | 0 | 1/8 | 95/4\n",
      "\n",
      "Problem is unbounded.\n"
     ]
    }
   ],
   "source": [
    "# Import required libraries\n",
    "from fractions import Fraction\n",
    "from numpy import argmin, set_printoptions, zeros, inf\n",
    "\n",
    "set_printoptions(precision=3, suppress=True)  # Nicer display of numpy arrays\n",
    "\n",
    "# Define the Tableau class\n",
    "class Tableau:\n",
    "    def __init__(self, obj, constraints, b_values):\n",
    "        self.obj = [1] + obj  # The objective row (first row in tableau)\n",
    "        self.constraints = constraints  # Coefficients of constraints\n",
    "        self.b_values = b_values  # Right-hand side values\n",
    "        self.num_vars = len(obj)  # Number of decision variables\n",
    "        self.num_slacks = len(b_values)  # Number of slack variables (equal to number of constraints)\n",
    "        \n",
    "        # Creating the initial tableau with the objective and constraints\n",
    "        self.tableau = zeros((1 + self.num_slacks, 1 + self.num_vars + self.num_slacks + 1))\n",
    "        self.tableau[0, 1:1+self.num_vars] = obj\n",
    "        for i, (constraint, b_value) in enumerate(zip(constraints, b_values)):\n",
    "            self.tableau[i+1, 1:1+self.num_vars] = constraint  # Set constraint coefficients\n",
    "            self.tableau[i+1, -1] = b_value  # Set the b_value\n",
    "            self.tableau[i+1, 1+self.num_vars+i] = 1  # Set slack variable coefficient\n",
    "\n",
    "    def display(self):\n",
    "        # Display the current state of the simplex tableau\n",
    "        print(\"Current Tableau:\")\n",
    "        for row in self.tableau:\n",
    "            print(' | '.join(str(Fraction(str(x)).limit_denominator()) for x in row))\n",
    "        print()\n",
    "\n",
    "    def pivot(self):\n",
    "        # Find the pivot column (most negative value in objective row)\n",
    "        pivot_col = argmin(self.tableau[0, 1:-1]) + 1  # +1 to correct the index\n",
    "        if self.tableau[0, pivot_col] >= 0:  # No negative value in objective row means optimal solution reached\n",
    "            return False\n",
    "        \n",
    "        # Minimum ratio test, excluding non-positive entries\n",
    "        ratios = [self.tableau[i, -1] / self.tableau[i, pivot_col] if self.tableau[i, pivot_col] > 0 else inf for i in range(1, len(self.tableau))]\n",
    "        pivot_row = argmin(ratios) + 1  # +1 to adjust for objective row\n",
    "\n",
    "        # If all entries in pivot column are non-positive\n",
    "        if all(self.tableau[i, pivot_col] <= 0 for i in range(1, len(self.tableau))):\n",
    "            print(\"Problem is unbounded.\")\n",
    "            return False\n",
    "\n",
    "        # Perform the pivot operation\n",
    "        pivot_val = self.tableau[pivot_row, pivot_col]\n",
    "        self.tableau[pivot_row, :] /= pivot_val\n",
    "        for i in range(len(self.tableau)):\n",
    "            if i != pivot_row:\n",
    "                self.tableau[i, :] -= self.tableau[i, pivot_col] * self.tableau[pivot_row, :]\n",
    "\n",
    "        return True  # Indicate successful pivot\n",
    "\n",
    "    def solve(self):\n",
    "        # Solve the tableau using the Simplex algorithm\n",
    "        self.display()  # Display the initial tableau\n",
    "        while min(self.tableau[0, 1:-1]) < 0:  # While negative coefficients in objective row\n",
    "            if not self.pivot():  # Perform a pivot operation\n",
    "                break  # Stop if no valid pivot or problem is unbounded\n",
    "            self.display()  # Display the tableau after each pivot\n",
    "\n",
    "# Example use of the Tableau class\n",
    "dual_obj = [-1, -4, -2]\n",
    "dual_constraints = [\n",
    "    [-5, -4, -1],\n",
    "    [-2, -8, 1],\n",
    "    [-2, 8, -4]\n",
    "]\n",
    "dual_b_values = [145, 260, 190]\n",
    "\n",
    "tableau = Tableau(dual_obj, dual_constraints, dual_b_values)\n",
    "tableau.solve()\n"
   ]
  },
  {
   "cell_type": "markdown",
   "metadata": {},
   "source": [
    "I had run my adapted simplex algorithm code to solve the dual problem. Initially, the tableau displayed negative coefficients in the objective row, prompting me to pivot to improve the solution. However, after a few iterations, I encountered a state where the coefficients under the non-basic variables in the objective row were non-negative, but the pivot column suggested by the algorithm led to no positive entries in that column for the ratio test. This situation typically indicates that the problem is unbounded, meaning the objective function can be decreased indefinitely. The algorithm I followed couldn't find a bounded optimal solution under these conditions, so it concluded that the problem was unbounded (altough I'm really not sure about this output, at first the algorithm was in an infinite loop)"
   ]
  },
  {
   "cell_type": "markdown",
   "metadata": {},
   "source": [
    "**final try without displaying the results**"
   ]
  },
  {
   "cell_type": "code",
   "execution_count": 18,
   "metadata": {},
   "outputs": [
    {
     "name": "stdout",
     "output_type": "stream",
     "text": [
      "Optimal Solution Found:\n",
      "y1 = 1.5\n",
      "y2 = 0.12499999999999994\n",
      "y3 = 0.0\n",
      "Objective value = 250.00000000000003\n"
     ]
    }
   ],
   "source": [
    "from ortools.linear_solver import pywraplp\n",
    "\n",
    "def solve_dual_problem():\n",
    "    # Create the linear solver with the SCIP backend.\n",
    "    solver = pywraplp.Solver.CreateSolver('SCIP')\n",
    "    if not solver:\n",
    "        print('SCIP solver is not available.')\n",
    "        return\n",
    "\n",
    "    # Define variables for the dual problem\n",
    "    # These will correspond to the constraints in the primal problem\n",
    "    y1 = solver.NumVar(0, solver.infinity(), 'y1')\n",
    "    y2 = solver.NumVar(0, solver.infinity(), 'y2')\n",
    "    y3 = solver.NumVar(0, solver.infinity(), 'y3')\n",
    "\n",
    "    # Objective function: Minimize 145*y1 + 260*y2 + 190*y3\n",
    "    objective = solver.Objective()\n",
    "    objective.SetCoefficient(y1, 145)\n",
    "    objective.SetCoefficient(y2, 260)\n",
    "    objective.SetCoefficient(y3, 190)\n",
    "    objective.SetMinimization()\n",
    "\n",
    "    # Constraint 1: 5*y1 + 4*y2 + y3 >= 1\n",
    "    c1 = solver.Constraint(1, solver.infinity())\n",
    "    c1.SetCoefficient(y1, 5)\n",
    "    c1.SetCoefficient(y2, 4)\n",
    "    c1.SetCoefficient(y3, 1)\n",
    "\n",
    "    # Constraint 2: 2*y1 + 8*y2 + y3 >= 4\n",
    "    c2 = solver.Constraint(4, solver.infinity())\n",
    "    c2.SetCoefficient(y1, 2)\n",
    "    c2.SetCoefficient(y2, 8)\n",
    "    c2.SetCoefficient(y3, 1)\n",
    "\n",
    "    # Constraint 3: 2*y1 - 8*y2 + 4*y3 >= 2\n",
    "    c3 = solver.Constraint(2, solver.infinity())\n",
    "    c3.SetCoefficient(y1, 2)\n",
    "    c3.SetCoefficient(y2, -8)\n",
    "    c3.SetCoefficient(y3, 4)\n",
    "\n",
    "    # Solve the problem and print the results\n",
    "    status = solver.Solve()\n",
    "    if status == pywraplp.Solver.OPTIMAL:\n",
    "        print('Optimal Solution Found:')\n",
    "        print('y1 =', y1.solution_value())\n",
    "        print('y2 =', y2.solution_value())\n",
    "        print('y3 =', y3.solution_value())\n",
    "        print('Objective value =', objective.Value())\n",
    "    elif status == pywraplp.Solver.INFEASIBLE:\n",
    "        print('No feasible solution found. The problem is infeasible.')\n",
    "    elif status == pywraplp.Solver.UNBOUNDED:\n",
    "        print('The problem is unbounded.')\n",
    "    else:\n",
    "        print('Solver status is', status)\n",
    "\n",
    "# Run the dual problem solver\n",
    "solve_dual_problem()\n"
   ]
  },
  {
   "cell_type": "markdown",
   "metadata": {},
   "source": [
    "Using the OR-Tools solver, I found an optimal solution for the dual linear programming problem. The dual variables \\( y1 \\), \\( y2 \\), and \\( y3 \\) had values of 1.5, approximately 0.125, and 0.0, respectively, with the minimized objective value being close to 250. This means that to minimize the cost, given the constraints, we should allocate resources in such a way that \\( y1 \\) is 1.5, \\( y2 \\) is 0.125, and \\( y3 \\) is not used. This allocation results in the lowest possible cost of 250 while still satisfying all constraints. The solver's output verifies the feasibility and boundedness of the problem, contrasting earlier tableau iterations that suggested the problem was unbounded."
   ]
  },
  {
   "cell_type": "markdown",
   "metadata": {},
   "source": [
    "**4. Is $Q$ the (optimal) solution for the primal problem ?**"
   ]
  },
  {
   "cell_type": "markdown",
   "metadata": {},
   "source": [
    " Since duality theory tells us that the optimal values of the primal and dual problems are equal under certain conditions, and the dual problem's optimal objective value is 250, if $Q$ is indeed optimal for the primal, then substituting $Q$ into the primal's objective function should yield the same value of 250."
   ]
  },
  {
   "cell_type": "code",
   "execution_count": 22,
   "metadata": {},
   "outputs": [
    {
     "name": "stdout",
     "output_type": "stream",
     "text": [
      "\n",
      "After running the OR-Tools solver to find the optimal dual variables and their corresponding objective value, I used the primal variable values \\( Q=(x_1,x_2,x_3)=(0,52.5,20) \\) provided in the question to calculate the objective value for the primal problem.\n",
      "\n",
      "By substituting \\( Q \\) into the primal's objective function, I found the objective value to be 250.00. To verify if \\( Q \\) is the optimal solution for the primal problem, this calculated objective value must be equal to the dual problem's optimal objective value, which is 250.00.\n",
      "\n",
      "Therefore, I conclude that:\n",
      "Yes, \\( Q \\) is the optimal solution for the primal problem.\n"
     ]
    },
    {
     "name": "stderr",
     "output_type": "stream",
     "text": [
      "<>:17: SyntaxWarning: invalid escape sequence '\\('\n",
      "<>:17: SyntaxWarning: invalid escape sequence '\\('\n",
      "<>:21: SyntaxWarning: invalid escape sequence '\\('\n",
      "<>:23: SyntaxWarning: invalid escape sequence '\\('\n",
      "<>:17: SyntaxWarning: invalid escape sequence '\\('\n",
      "<>:17: SyntaxWarning: invalid escape sequence '\\('\n",
      "<>:21: SyntaxWarning: invalid escape sequence '\\('\n",
      "<>:23: SyntaxWarning: invalid escape sequence '\\('\n",
      "C:\\Users\\abdou\\AppData\\Local\\Temp\\ipykernel_2836\\3169543394.py:17: SyntaxWarning: invalid escape sequence '\\('\n",
      "  \"\"\"\n",
      "C:\\Users\\abdou\\AppData\\Local\\Temp\\ipykernel_2836\\3169543394.py:17: SyntaxWarning: invalid escape sequence '\\('\n",
      "  \"\"\"\n",
      "C:\\Users\\abdou\\AppData\\Local\\Temp\\ipykernel_2836\\3169543394.py:21: SyntaxWarning: invalid escape sequence '\\('\n",
      "  primal_solution_statement += \"Yes, \\( Q \\) is the optimal solution for the primal problem.\"\n",
      "C:\\Users\\abdou\\AppData\\Local\\Temp\\ipykernel_2836\\3169543394.py:23: SyntaxWarning: invalid escape sequence '\\('\n",
      "  primal_solution_statement += \"No, \\( Q \\) is not the optimal solution for the primal problem, as the calculated objective value does not match the dual's optimal value.\"\n"
     ]
    }
   ],
   "source": [
    "# Define the primal objective function coefficients\n",
    "primal_obj_coeffs = [1, 4, 2]\n",
    "\n",
    "# Define the solution Q for the primal problem\n",
    "Q = [0, 52.5, 20]\n",
    "\n",
    "# Calculate the primal objective value for Q\n",
    "primal_obj_value = sum(coef * Q_i for coef, Q_i in zip(primal_obj_coeffs, Q))\n",
    "\n",
    "# Output the result in Markdown AD style\n",
    "primal_solution_statement = f\"\"\"\n",
    "After running the OR-Tools solver to find the optimal dual variables and their corresponding objective value, I used the primal variable values \\( Q=(x_1,x_2,x_3)=(0,52.5,20) \\) provided in the question to calculate the objective value for the primal problem.\n",
    "\n",
    "By substituting \\( Q \\) into the primal's objective function, I found the objective value to be {primal_obj_value:.2f}. To verify if \\( Q \\) is the optimal solution for the primal problem, this calculated objective value must be equal to the dual problem's optimal objective value, which is 250.00.\n",
    "\n",
    "Therefore, I conclude that:\n",
    "\"\"\"\n",
    "\n",
    "# Check if the primal objective value for Q is equal to the dual's optimal objective value (250)\n",
    "if primal_obj_value == 250:\n",
    "    primal_solution_statement += \"Yes, \\( Q \\) is the optimal solution for the primal problem.\"\n",
    "else:\n",
    "    primal_solution_statement += \"No, \\( Q \\) is not the optimal solution for the primal problem, as the calculated objective value does not match the dual's optimal value.\"\n",
    "\n",
    "print(primal_solution_statement)\n"
   ]
  }
 ],
 "metadata": {
  "kernelspec": {
   "display_name": "Python 3",
   "language": "python",
   "name": "python3"
  },
  "language_info": {
   "codemirror_mode": {
    "name": "ipython",
    "version": 3
   },
   "file_extension": ".py",
   "mimetype": "text/x-python",
   "name": "python",
   "nbconvert_exporter": "python",
   "pygments_lexer": "ipython3",
   "version": "3.12.2"
  }
 },
 "nbformat": 4,
 "nbformat_minor": 2
}
