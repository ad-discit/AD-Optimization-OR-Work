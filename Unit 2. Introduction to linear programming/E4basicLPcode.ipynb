{
 "cells": [
  {
   "cell_type": "markdown",
   "metadata": {},
   "source": [
    "I utilized Google OR-Tools to tackle a series of linear programming exercises. Initially, I aimed to devise a universal function to systematically address these exercises, hoping to consolidate the process of defining and solving each distinct problem within a singular, flexible framework.\n",
    "\n",
    "Regrettably, this approach met with difficulties (algorithmic : \"too many values to unpack\" while using tuples for contraints). It became apparent that the unique subtleties of each LP problem defied a one-size-fits-all solution. \n",
    "\n",
    "Particularly, exercises 6 and 7 highlighted infeasible scenarios—conditions where constraints formed an unsolvable problem space. Comprehending the solver's feedback, such as 'infeasible' or 'unbounded', was imperative for these exercises.\n",
    "\n",
    "Confronted with these challenges, I shifted to a customized approach for each case. I meticulously defined constraints, objective functions, and variable bounds before engaging OR-Tools for resolution. This method offered a granular level of control and a deeper dive into each problem's architecture.\n",
    "\n",
    "**Found help here :**\n",
    "\n",
    "https://github.com/google/or-tools/blob/stable/ortools/linear_solver/linear_solver.h#L442\n",
    "\n",
    "https://github.com/google/or-tools/blob/a4a3d4a786fae1d6b7f1fdbc97d4c4f363212ef1/ortools/linear_solver/python/linear_solver.i#L284-L291"
   ]
  },
  {
   "cell_type": "code",
   "execution_count": 1,
   "metadata": {},
   "outputs": [],
   "source": [
    "from ortools.linear_solver import pywraplp"
   ]
  },
  {
   "cell_type": "markdown",
   "metadata": {},
   "source": [
    "## **Sketch of the first idea**"
   ]
  },
  {
   "cell_type": "code",
   "execution_count": 6,
   "metadata": {},
   "outputs": [],
   "source": [
    "# Function to create the LP solver\n",
    "def create_solver(name='SCIP'):\n",
    "    return pywraplp.Solver.CreateSolver(name)"
   ]
  },
  {
   "cell_type": "code",
   "execution_count": 7,
   "metadata": {},
   "outputs": [],
   "source": [
    "# Function to solve an LP problem and print the solution\n",
    "def solve_lp_problem(solver, objective_coefficients, constraints, bounds, maximize=True):\n",
    "    # Variables\n",
    "    x = [solver.NumVar(lb, ub, f'x{i}') for i, (lb, ub) in enumerate(bounds)]\n",
    "\n",
    "    # Objective\n",
    "    objective = solver.Objective()\n",
    "    for i, coeff in enumerate(objective_coefficients):\n",
    "        objective.SetCoefficient(x[i], coeff)\n",
    "    if maximize:\n",
    "        objective.SetMaximization()\n",
    "    else:\n",
    "        objective.SetMinimization()\n",
    "\n",
    "    # Constraints\n",
    "    for lhs, rhs in constraints:\n",
    "        constraint = solver.RowConstraint(lhs, rhs, '')\n",
    "        for i in range(len(x)):\n",
    "            constraint.SetCoefficient(x[i], lhs[i])\n",
    "\n",
    "    # Solve\n",
    "    status = solver.Solve()\n",
    "\n",
    "    # Print solution\n",
    "    if status == pywraplp.Solver.OPTIMAL:\n",
    "        print('Solution found:')\n",
    "        for i, var in enumerate(x):\n",
    "            print(f'Variable x{i+1} = {var.solution_value()}')\n",
    "        print('Objective value =', solver.Objective().Value())\n",
    "    else:\n",
    "        if status == pywraplp.Solver.INFEASIBLE:\n",
    "            print('No feasible solution found.')\n",
    "        else:\n",
    "            print('No solution found.')"
   ]
  },
  {
   "cell_type": "markdown",
   "metadata": {},
   "source": [
    "## **Second Idea and solutions**"
   ]
  },
  {
   "cell_type": "code",
   "execution_count": null,
   "metadata": {},
   "outputs": [],
   "source": [
    "solver = create_solver()\n",
    "solve_lp_problem(\n",
    "    solver=solver,\n",
    "    coefficients=[22, 28],\n",
    "    constraint_lhs=[[8, 10], [2, 3]],\n",
    "    constraint_rhs=[3400, 960],\n",
    "    bounds=[(0, solver.infinity())] * 2,\n",
    "    objective_max=True\n",
    ")"
   ]
  },
  {
   "cell_type": "markdown",
   "metadata": {},
   "source": [
    "## **Exercise 1:** *Router Production Optimization*"
   ]
  },
  {
   "cell_type": "markdown",
   "metadata": {},
   "source": [
    "\n",
    "In this scenario, we have to analyze a computer system components manufacturer focusing on the assembly of two wireless router models: A and B. The production is constrained by the availability of materials and labor. Model A yields a profit of $22 per unit, while Model B brings $28 per unit. We have to optimize the production to maximize profits, given unlimited market demand.\n"
   ]
  },
  {
   "cell_type": "code",
   "execution_count": 34,
   "metadata": {},
   "outputs": [
    {
     "name": "stdout",
     "output_type": "stream",
     "text": [
      "Optimal Solution Found:\n",
      "x_A = 150.0000000000001\n",
      "x_B = 219.99999999999997\n",
      "Objective value = 9460.000000000004\n"
     ]
    }
   ],
   "source": [
    "def solve_exercise_1():\n",
    "    solver = create_solver()\n",
    "\n",
    "    # Variables x_A and x_B\n",
    "    x_A = solver.NumVar(0, solver.infinity(), 'x_A')\n",
    "    x_B = solver.NumVar(0, solver.infinity(), 'x_B')\n",
    "    \n",
    "    # Objective Function: Maximize 22x_A + 28x_B\n",
    "    objective = solver.Objective()\n",
    "    objective.SetCoefficient(x_A, 22)\n",
    "    objective.SetCoefficient(x_B, 28)\n",
    "    objective.SetMaximization()\n",
    "    \n",
    "    # Constraints\n",
    "    # 8x_A + 10x_B ≤ 3400\n",
    "    material_constraint = solver.Constraint(-solver.infinity(), 3400)\n",
    "    material_constraint.SetCoefficient(x_A, 8)\n",
    "    material_constraint.SetCoefficient(x_B, 10)\n",
    "    \n",
    "    # 2x_A + 3x_B ≤ 960\n",
    "    labor_constraint = solver.Constraint(-solver.infinity(), 960)\n",
    "    labor_constraint.SetCoefficient(x_A, 2)\n",
    "    labor_constraint.SetCoefficient(x_B, 3)\n",
    "    \n",
    "    # Solve the problem\n",
    "    status = solver.Solve()\n",
    "    \n",
    "    # Check and print the solution or status\n",
    "    if status == pywraplp.Solver.OPTIMAL:\n",
    "        print('Optimal Solution Found:')\n",
    "        print('x_A =', x_A.solution_value())\n",
    "        print('x_B =', x_B.solution_value())\n",
    "        print('Objective value =', objective.Value())\n",
    "    elif status == pywraplp.Solver.INFEASIBLE:\n",
    "        print('No feasible solution found. The problem is infeasible.')\n",
    "    elif status == pywraplp.Solver.UNBOUNDED:\n",
    "        print('The problem is unbounded.')\n",
    "    else:\n",
    "        print(f'Solver status is {status}: Problem could not be solved due to other reasons.')\n",
    "\n",
    "\n",
    "solve_exercise_1()\n"
   ]
  },
  {
   "cell_type": "markdown",
   "metadata": {},
   "source": [
    "## **Exercise 2 :** *minimizing combined production costs*"
   ]
  },
  {
   "cell_type": "markdown",
   "metadata": {},
   "source": [
    "Exercise 2 presents an inventory and production problem. We're trying to minimize the total costs, considering production and storage costs, given constraints on production capacity and inventory levels over a four-week period.\n",
    "\n",
    "The objective is to minimize the cost function:\n",
    "\n",
    "z = 15(x1 + x2 + x3 + x4) + 3(A1 + A2 + A3)\n",
    "\n",
    "the x are the number of units produced during week, and the 'A' are the number of items remaining at the end of each week.(everything is linear the obj function and the contraints)"
   ]
  },
  {
   "cell_type": "code",
   "execution_count": 35,
   "metadata": {},
   "outputs": [
    {
     "name": "stdout",
     "output_type": "stream",
     "text": [
      "Optimal Solution Found:\n",
      "x1 = 650.0\n",
      "A1 = 0.0\n",
      "x2 = 700.0\n",
      "A2 = 100.0\n",
      "x3 = 700.0\n",
      "A3 = 0.0\n",
      "x4 = 600.0\n",
      "A4 = 0.0\n",
      "Objective value = 40050.0\n"
     ]
    }
   ],
   "source": [
    "def solve_exercise_2():\n",
    "    solver = create_solver()\n",
    "\n",
    "    # Variables for units produced each week\n",
    "    x = [solver.NumVar(500, 700, f'x{i}') for i in range(1, 5)]\n",
    "    \n",
    "    # Variables for inventory at the end of each week, not decision variables, but derived from x\n",
    "    A = [solver.NumVar(0, solver.infinity(), f'A{i}') for i in range(1, 5)]\n",
    "\n",
    "    # Objective Function: Minimize production and storage costs\n",
    "    objective = solver.Objective()\n",
    "    for xi in x:\n",
    "        objective.SetCoefficient(xi, 15)  # Production cost per unit\n",
    "    for Ai in A[:-1]:  # Exclude A4 because there is no cost for ending inventory in the last week\n",
    "        objective.SetCoefficient(Ai, 3)  # Storage cost per unit\n",
    "    objective.SetMinimization()\n",
    "    \n",
    "    # Inventory balance constraints (A[i] = A[i-1] + x[i] - demand[i])\n",
    "    initial_inventory = 250\n",
    "    demands = [900, 600, 800, 600]  # Given demand for each week\n",
    "    for i in range(4):\n",
    "        if i == 0:\n",
    "            solver.Add(A[i] == initial_inventory + x[i] - demands[i])\n",
    "        else:\n",
    "            solver.Add(A[i] == A[i-1] + x[i] - demands[i])\n",
    "\n",
    "    # Solve the problem\n",
    "    status = solver.Solve()\n",
    "    \n",
    "    # Check and print the solution or status\n",
    "    if status == pywraplp.Solver.OPTIMAL:\n",
    "        print('Optimal Solution Found:')\n",
    "        for i in range(4):\n",
    "            print(f'x{i+1} =', x[i].solution_value())\n",
    "            print(f'A{i+1} =', A[i].solution_value())\n",
    "        print('Objective value =', objective.Value())\n",
    "    elif status == pywraplp.Solver.INFEASIBLE:\n",
    "        print('No feasible solution found. The problem is infeasible.')\n",
    "    elif status == pywraplp.Solver.UNBOUNDED:\n",
    "        print('The problem is unbounded.')\n",
    "    else:\n",
    "        print(f'Solver status is {status}: Problem could not be solved due to other reasons.')\n",
    "\n",
    "\n",
    "solve_exercise_2()\n"
   ]
  },
  {
   "cell_type": "markdown",
   "metadata": {},
   "source": [
    "## **Exercise 3 :** *Unique optimal feasible solution I*"
   ]
  },
  {
   "cell_type": "code",
   "execution_count": 27,
   "metadata": {},
   "outputs": [
    {
     "name": "stdout",
     "output_type": "stream",
     "text": [
      "Solution Found:\n",
      "x1 = 6.0\n",
      "x2 = 4.0\n",
      "Objective value = 22.0\n"
     ]
    }
   ],
   "source": [
    "def solve_exercise_3():\n",
    "    solver = create_solver()\n",
    "    \n",
    "    # Variables x1 and x2\n",
    "    x1 = solver.NumVar(0, solver.infinity(), 'x1')\n",
    "    x2 = solver.NumVar(0, solver.infinity(), 'x2')\n",
    "    \n",
    "    # Objective Function: Maximize 3x1 + x2\n",
    "    objective = solver.Objective()\n",
    "    objective.SetCoefficient(x1, 3)\n",
    "    objective.SetCoefficient(x2, 1)\n",
    "    objective.SetMaximization()\n",
    "    \n",
    "    # Constraints\n",
    "    # x2 <= 5\n",
    "    constraint1 = solver.Constraint(-solver.infinity(), 5)\n",
    "    constraint1.SetCoefficient(x2, 1)\n",
    "    \n",
    "    # x1 + x2 <= 10\n",
    "    constraint2 = solver.Constraint(-solver.infinity(), 10)\n",
    "    constraint2.SetCoefficient(x1, 1)\n",
    "    constraint2.SetCoefficient(x2, 1)\n",
    "    \n",
    "    # -x1 + x2 >= -2 (which we convert to -x1 + x2 <= 2 for OR-Tools)\n",
    "    constraint3 = solver.Constraint(-2, solver.infinity())\n",
    "    constraint3.SetCoefficient(x1, -1)\n",
    "    constraint3.SetCoefficient(x2, 1)\n",
    "    \n",
    "    # Solve the problem\n",
    "    status = solver.Solve()\n",
    "    \n",
    "    # Check and print the solution\n",
    "    if status == pywraplp.Solver.OPTIMAL:\n",
    "        print('Solution Found:')\n",
    "        print('x1 =', x1.solution_value())\n",
    "        print('x2 =', x2.solution_value())\n",
    "        print('Objective value =', objective.Value())\n",
    "    elif status == pywraplp.Solver.INFEASIBLE:\n",
    "        print('No feasible solution found.')\n",
    "    else:\n",
    "        print('Solver status:', status)\n",
    "        \n",
    "\n",
    "solve_exercise_3()\n",
    "\n"
   ]
  },
  {
   "cell_type": "markdown",
   "metadata": {},
   "source": [
    "## **Exercise 4 :** *Unique optimal feasible solution*"
   ]
  },
  {
   "cell_type": "code",
   "execution_count": 28,
   "metadata": {},
   "outputs": [
    {
     "name": "stdout",
     "output_type": "stream",
     "text": [
      "Solution Found:\n",
      "x1 = 1.0\n",
      "x2 = 3.0\n",
      "Objective value = 4.0\n"
     ]
    }
   ],
   "source": [
    "def solve_exercise_4():\n",
    "    solver = create_solver()\n",
    "\n",
    "    # Variables x1 and x2\n",
    "    x1 = solver.NumVar(0, solver.infinity(), 'x1')\n",
    "    x2 = solver.NumVar(0, solver.infinity(), 'x2')\n",
    "    \n",
    "    # Objective Function: Minimize x1 + x2\n",
    "    objective = solver.Objective()\n",
    "    objective.SetCoefficient(x1, 1)\n",
    "    objective.SetCoefficient(x2, 1)\n",
    "    objective.SetMinimization()\n",
    "    \n",
    "    # Constraints\n",
    "    # 3x1 + x2 >= 6\n",
    "    constraint1 = solver.Constraint(6, solver.infinity())\n",
    "    constraint1.SetCoefficient(x1, 3)\n",
    "    constraint1.SetCoefficient(x2, 1)\n",
    "    \n",
    "    # x2 >= 3\n",
    "    constraint2 = solver.Constraint(3, solver.infinity())\n",
    "    constraint2.SetCoefficient(x2, 1)\n",
    "    \n",
    "    # x1 <= 4\n",
    "    constraint3 = solver.Constraint(-solver.infinity(), 4)\n",
    "    constraint3.SetCoefficient(x1, 1)\n",
    "    \n",
    "    # Solve the problem\n",
    "    status = solver.Solve()\n",
    "    \n",
    "    # Check and print the solution\n",
    "    if status == pywraplp.Solver.OPTIMAL:\n",
    "        print('Solution Found:')\n",
    "        print('x1 =', x1.solution_value())\n",
    "        print('x2 =', x2.solution_value())\n",
    "        print('Objective value =', objective.Value())\n",
    "    elif status == pywraplp.Solver.INFEASIBLE:\n",
    "        print('No feasible solution found.')\n",
    "    else:\n",
    "        print('Solver status:', status)\n",
    "\n",
    "\n",
    "solve_exercise_4()\n"
   ]
  },
  {
   "cell_type": "markdown",
   "metadata": {},
   "source": [
    "## **Exercise 5 :** *Multiple optimal feasible solutions*"
   ]
  },
  {
   "cell_type": "code",
   "execution_count": 30,
   "metadata": {},
   "outputs": [
    {
     "name": "stdout",
     "output_type": "stream",
     "text": [
      "One Optimal Solution Found:\n",
      "x1 = 6.0\n",
      "x2 = 1.0\n",
      "Objective value = 8.0\n",
      "Another Optimal Solution Found:\n",
      "x1 = 1.333333333333334\n",
      "x2 = 3.333333333333333\n"
     ]
    }
   ],
   "source": [
    "def solve_exercise_5():\n",
    "    solver = create_solver()\n",
    "\n",
    "    # Variables x1 and x2\n",
    "    x1 = solver.NumVar(0, solver.infinity(), 'x1')\n",
    "    x2 = solver.NumVar(0, solver.infinity(), 'x2')\n",
    "    \n",
    "    # Objective Function: Maximize x1 + 2x2\n",
    "    objective = solver.Objective()\n",
    "    objective.SetCoefficient(x1, 1)\n",
    "    objective.SetCoefficient(x2, 2)\n",
    "    objective.SetMaximization()\n",
    "    \n",
    "    # Constraints\n",
    "    # -x1 + x2 <= 2\n",
    "    constraint1 = solver.Constraint(-solver.infinity(), 2)\n",
    "    constraint1.SetCoefficient(x1, -1)\n",
    "    constraint1.SetCoefficient(x2, 1)\n",
    "    \n",
    "    # x1 + 2x2 <= 8\n",
    "    constraint2 = solver.Constraint(-solver.infinity(), 8)\n",
    "    constraint2.SetCoefficient(x1, 1)\n",
    "    constraint2.SetCoefficient(x2, 2)\n",
    "    \n",
    "    # x1 <= 6\n",
    "    constraint3 = solver.Constraint(-solver.infinity(), 6)\n",
    "    constraint3.SetCoefficient(x1, 1)\n",
    "    \n",
    "    # Solve the problem\n",
    "    status = solver.Solve()\n",
    "    \n",
    "    # Check and print the solution\n",
    "    if status == pywraplp.Solver.OPTIMAL:\n",
    "        print('One Optimal Solution Found:')\n",
    "        print('x1 =', x1.solution_value())\n",
    "        print('x2 =', x2.solution_value())\n",
    "        print('Objective value =', objective.Value())\n",
    "        \n",
    "        # To find another optimal solution on the edge of optimality,\n",
    "        # I induced a perturbation on the objective function slightly and then resolved.\n",
    "        objective.SetCoefficient(x1, 1 - 1e-6)\n",
    "        objective.SetCoefficient(x2, 2)\n",
    "        solver.Solve()\n",
    "        print('Another Optimal Solution Found:')\n",
    "        print('x1 =', x1.solution_value())\n",
    "        print('x2 =', x2.solution_value())\n",
    "    elif status == pywraplp.Solver.INFEASIBLE:\n",
    "        print('No feasible solution found.')\n",
    "    else:\n",
    "        print('Solver status:', status)\n",
    "\n",
    "\n",
    "solve_exercise_5()\n"
   ]
  },
  {
   "cell_type": "markdown",
   "metadata": {},
   "source": [
    "## **Exercise 6 :** *No optimal feasible solutions*"
   ]
  },
  {
   "cell_type": "code",
   "execution_count": 32,
   "metadata": {},
   "outputs": [
    {
     "name": "stdout",
     "output_type": "stream",
     "text": [
      "Solver status: 4 The problem has no optimal solution.\n"
     ]
    }
   ],
   "source": [
    "def solve_exercise_6():\n",
    "    solver = create_solver()\n",
    "\n",
    "    # Variables x1 and x2\n",
    "    x1 = solver.NumVar(0, solver.infinity(), 'x1')\n",
    "    x2 = solver.NumVar(0, solver.infinity(), 'x2')\n",
    "    \n",
    "    # Objective Function: Maximize 3x1 + x2\n",
    "    objective = solver.Objective()\n",
    "    objective.SetCoefficient(x1, 3)\n",
    "    objective.SetCoefficient(x2, 1)\n",
    "    objective.SetMaximization()\n",
    "    \n",
    "    # Constraints\n",
    "    # x1 + x2 >= 4\n",
    "    constraint1 = solver.Constraint(4, solver.infinity())\n",
    "    constraint1.SetCoefficient(x1, 1)\n",
    "    constraint1.SetCoefficient(x2, 1)\n",
    "    \n",
    "    # -x1 + x2 <= 4\n",
    "    constraint2 = solver.Constraint(-solver.infinity(), 4)\n",
    "    constraint2.SetCoefficient(x1, -1)\n",
    "    constraint2.SetCoefficient(x2, 1)\n",
    "    \n",
    "    # -x1 + 2x2 >= -4 (rearranged from -x1 + 2x2 >= -4)\n",
    "    constraint3 = solver.Constraint(-4, solver.infinity())\n",
    "    constraint3.SetCoefficient(x1, -1)\n",
    "    constraint3.SetCoefficient(x2, 2)\n",
    "    \n",
    "    # Solve the problem\n",
    "    status = solver.Solve()\n",
    "    \n",
    "    # Check and print the solution\n",
    "    if status == pywraplp.Solver.OPTIMAL:\n",
    "        print('Optimal Solution Found (which is unexpected):')\n",
    "        print('x1 =', x1.solution_value())\n",
    "        print('x2 =', x2.solution_value())\n",
    "        print('Objective value =', objective.Value())\n",
    "    elif status == pywraplp.Solver.INFEASIBLE:\n",
    "        print('No feasible solution found.')\n",
    "    elif status == pywraplp.Solver.UNBOUNDED:\n",
    "        print('The problem is unbounded.')\n",
    "    else:\n",
    "        print('Solver status:', status,\"The problem has no optimal solution.\")\n",
    "\n",
    "\n",
    "solve_exercise_6()\n"
   ]
  },
  {
   "cell_type": "markdown",
   "metadata": {},
   "source": [
    "## **Exercise 7 :** *No feasible solutions*"
   ]
  },
  {
   "cell_type": "code",
   "execution_count": 33,
   "metadata": {},
   "outputs": [
    {
     "name": "stdout",
     "output_type": "stream",
     "text": [
      "No feasible solution found. The problem is infeasible.\n"
     ]
    }
   ],
   "source": [
    "def solve_exercise_7():\n",
    "    solver = create_solver()\n",
    "\n",
    "    # Variables x1 and x2\n",
    "    x1 = solver.NumVar(0, solver.infinity(), 'x1')\n",
    "    x2 = solver.NumVar(0, solver.infinity(), 'x2')\n",
    "    \n",
    "    # Objective Function: Maximize 3x1 + x2\n",
    "    objective = solver.Objective()\n",
    "    objective.SetCoefficient(x1, 3)\n",
    "    objective.SetCoefficient(x2, 1)\n",
    "    objective.SetMaximization()\n",
    "    \n",
    "    # Constraints\n",
    "    # -x1 + x2 >= 4\n",
    "    constraint1 = solver.Constraint(4, solver.infinity())\n",
    "    constraint1.SetCoefficient(x1, -1)\n",
    "    constraint1.SetCoefficient(x2, 1)\n",
    "    \n",
    "    # -x1 + 2x2 <= -4\n",
    "    constraint2 = solver.Constraint(-solver.infinity(), -4)\n",
    "    constraint2.SetCoefficient(x1, -1)\n",
    "    constraint2.SetCoefficient(x2, 2)\n",
    "    \n",
    "    # Solve the problem\n",
    "    status = solver.Solve()\n",
    "    \n",
    "    # Check and print the solution or status\n",
    "    if status == pywraplp.Solver.OPTIMAL:\n",
    "        print('Optimal Solution Found:')\n",
    "        print('x1 =', x1.solution_value())\n",
    "        print('x2 =', x2.solution_value())\n",
    "        print('Objective value =', objective.Value())\n",
    "    elif status == pywraplp.Solver.INFEASIBLE:\n",
    "        print('No feasible solution found. The problem is infeasible.')\n",
    "    elif status == pywraplp.Solver.UNBOUNDED:\n",
    "        print('The problem is unbounded.')\n",
    "    else:\n",
    "        print(f'Solver status is {status}: Problem could not be solved due to other reasons.')\n",
    "\n",
    "\n",
    "solve_exercise_7()\n"
   ]
  }
 ],
 "metadata": {
  "kernelspec": {
   "display_name": "Python 3",
   "language": "python",
   "name": "python3"
  },
  "language_info": {
   "codemirror_mode": {
    "name": "ipython",
    "version": 3
   },
   "file_extension": ".py",
   "mimetype": "text/x-python",
   "name": "python",
   "nbconvert_exporter": "python",
   "pygments_lexer": "ipython3",
   "version": "3.12.2"
  }
 },
 "nbformat": 4,
 "nbformat_minor": 2
}
